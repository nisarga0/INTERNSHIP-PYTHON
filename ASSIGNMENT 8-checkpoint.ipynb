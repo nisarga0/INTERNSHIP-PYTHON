{
 "cells": [
  {
   "cell_type": "code",
   "execution_count": 2,
   "id": "b6d7e417",
   "metadata": {},
   "outputs": [],
   "source": [
    "class RomanNumeralConverter:\n",
    "    def __init__(self):\n",
    "        self.roman_numerals = {\n",
    "            1000: 'M',\n",
    "            900: 'CM',\n",
    "            500: 'D',\n",
    "            400: 'CD',\n",
    "            100: 'C',\n",
    "            90: 'XC',\n",
    "            50: 'L',\n",
    "            40: 'XL',\n",
    "            10: 'X',\n",
    "            9: 'IX',\n",
    "            5: 'V',\n",
    "            4: 'IV',\n",
    "            1: 'I'\n",
    "        }\n",
    "    \n",
    "    def to_roman(self, num):\n",
    "        result = \"\"\n",
    "        for value, symbol in self.roman_numerals.items():\n",
    "            while num >= value:\n",
    "                result += symbol\n",
    "                num -= value\n",
    "        return result\n",
    "    \n",
    "    def to_int(self, roman):\n",
    "        result = 0\n",
    "        i = 0\n",
    "        while i < len(roman):\n",
    "            if i + 1 < len(roman) and self._is_roman(roman[i]) and self._is_roman(roman[i+1]):\n",
    "                result += self.roman_numerals[self._roman_to_int(roman[i:i+2])]\n",
    "                i += 2\n",
    "            else:\n",
    "                result += self.roman_numerals[self._roman_to_int(roman[i])]\n",
    "                i += 1\n",
    "        return result\n",
    "    \n",
    "    def _is_roman(self, char):\n",
    "        return char in ['I', 'V', 'X', 'L', 'C', 'D', 'M']\n",
    "    \n",
    "    def _roman_to_int(self, roman):\n",
    "        return self.roman_numerals[roman]\n",
    "\n",
    "    "
   ]
  },
  {
   "cell_type": "code",
   "execution_count": 17,
   "id": "5cf01881",
   "metadata": {},
   "outputs": [],
   "source": [
    "class ParenthesesValidator:\n",
    "    def __init__(self):\n",
    "        self.opening_brackets = set(['(', '[', '{'])\n",
    "        self.closing_brackets = set([')', ']', '}'])\n",
    "        self.bracket_pairs = {\n",
    "            ')': '(',\n",
    "            ']': '[',\n",
    "            '}': '{'\n",
    "        }\n",
    "    \n",
    "    def is_valid(self, s):\n",
    "        stack = []\n",
    "        for c in s:\n",
    "            if c in self.opening_brackets:\n",
    "                stack.append(c)\n",
    "            elif c in self.closing_brackets:\n",
    "                if not stack:\n",
    "                    return False\n",
    "                if stack[-1] == self.bracket_pairs[c]:\n",
    "                    stack.pop()\n",
    "                else:\n",
    "                    return False\n",
    "        return not stack\n"
   ]
  },
  {
   "cell_type": "code",
   "execution_count": 19,
   "id": "23e777f5",
   "metadata": {},
   "outputs": [],
   "source": [
    "class SubsetGenerator:\n",
    "    def __init__(self):\n",
    "        pass\n",
    "    \n",
    "    def get_subsets(self, nums):\n",
    "        if not nums:\n",
    "            return [[]]\n",
    "        \n",
    "        subsets = []\n",
    "        self._generate_subsets(nums, [], subsets)\n",
    "        return subsets\n",
    "    \n",
    "    def _generate_subsets(self, nums, current, subsets):\n",
    "        subsets.append(current)\n",
    "        \n",
    "        for i in range(len(nums)):\n",
    "            self._generate_subsets(nums[i+1:], current + [nums[i]], subsets)\n"
   ]
  },
  {
   "cell_type": "code",
   "execution_count": 20,
   "id": "0b36977f",
   "metadata": {},
   "outputs": [],
   "source": [
    "class PairFinder:\n",
    "    def __init__(self):\n",
    "        pass\n",
    "    \n",
    "    def find_pair(self, nums, target):\n",
    "        num_indices = {}\n",
    "        \n",
    "        for i, num in enumerate(nums):\n",
    "            complement = target - num\n",
    "            \n",
    "            if complement in num_indices:\n",
    "                return [num_indices[complement], i]\n",
    "            \n",
    "            num_indices[num] = i\n",
    "        \n",
    "        return None\n"
   ]
  },
  {
   "cell_type": "code",
   "execution_count": 21,
   "id": "4fc95074",
   "metadata": {},
   "outputs": [],
   "source": [
    "class TripletFinder:\n",
    "    def __init__(self):\n",
    "        pass\n",
    "    \n",
    "    def find_triplets(self, nums):\n",
    "        nums.sort()\n",
    "        n = len(nums)\n",
    "        triplets = []\n",
    "        \n",
    "        for i in range(n-2):\n",
    "            if i > 0 and nums[i] == nums[i-1]:\n",
    "                continue\n",
    "            \n",
    "            left, right = i+1, n-1\n",
    "            \n",
    "            while left < right:\n",
    "                total = nums[i] + nums[left] + nums[right]\n",
    "                \n",
    "                if total < 0:\n",
    "                    left += 1\n",
    "                elif total > 0:\n",
    "                    right -= 1\n",
    "                else:\n",
    "                    triplets.append([nums[i], nums[left], nums[right]])\n",
    "                    while left < right and nums[left] == nums[left+1]:\n",
    "                        left += 1\n",
    "                    while left < right and nums[right] == nums[right-1]:\n",
    "                        right -= 1\n",
    "                    left += 1\n",
    "                    right -= 1\n",
    "        \n",
    "        return triplets\n"
   ]
  },
  {
   "cell_type": "code",
   "execution_count": 22,
   "id": "5f07d66c",
   "metadata": {},
   "outputs": [],
   "source": [
    "class PowerCalculator:\n",
    "    def __init__(self):\n",
    "        pass\n",
    "    \n",
    "    def power(self, x, n):\n",
    "        if n == 0:\n",
    "            return 1\n",
    "        \n",
    "        if n < 0:\n",
    "            x = 1 / x\n",
    "            n = -n\n",
    "        \n",
    "        result = 1\n",
    "        \n",
    "        while n > 0:\n",
    "            if n % 2 == 1:\n",
    "                result *= x\n",
    "            x *= x\n",
    "            n //= 2\n",
    "        \n",
    "        return result\n"
   ]
  },
  {
   "cell_type": "code",
   "execution_count": 23,
   "id": "4e0589f0",
   "metadata": {},
   "outputs": [],
   "source": [
    "class StringReverser:\n",
    "    def __init__(self):\n",
    "        pass\n",
    "    \n",
    "    def reverse_words(self, string):\n",
    "        # Split the string into words using the space character as a separator\n",
    "        words = string.split()\n",
    "        \n",
    "        # Reverse the order of the words\n",
    "        words.reverse()\n",
    "        \n",
    "        # Join the words into a single string with space characters in between\n",
    "        reversed_string = ' '.join(words)\n",
    "        \n",
    "        return reversed_string\n"
   ]
  },
  {
   "cell_type": "code",
   "execution_count": 24,
   "id": "2b614bc4",
   "metadata": {},
   "outputs": [],
   "source": [
    "class StringManipulator:\n",
    "    def __init__(self):\n",
    "        self.string = \"\"\n",
    "    \n",
    "    def get_string(self):\n",
    "        self.string = input(\"Enter a string: \")\n",
    "    \n",
    "    def print_string(self):\n",
    "        reversed_string = self.string[::-1]\n",
    "        print(\"Reversed string: \", reversed_string)\n"
   ]
  },
  {
   "cell_type": "code",
   "execution_count": 25,
   "id": "ea2ee352",
   "metadata": {},
   "outputs": [],
   "source": [
    "class Circle:\n",
    "    def __init__(self, radius):\n",
    "        self.radius = radius\n",
    "    \n",
    "    def area(self):\n",
    "        return 3.14 * self.radius ** 2\n",
    "    \n",
    "    def perimeter(self):\n",
    "        return 2 * 3.14 * self.radius\n"
   ]
  },
  {
   "cell_type": "code",
   "execution_count": 26,
   "id": "4cfe1d0c",
   "metadata": {},
   "outputs": [
    {
     "name": "stdout",
     "output_type": "stream",
     "text": [
      "MyClass\n"
     ]
    }
   ],
   "source": [
    "class MyClass:\n",
    "    pass\n",
    "\n",
    "\n",
    "my_instance = MyClass()\n",
    "class_name = my_instance.__class__.__name__\n",
    "\n",
    "print(class_name)\n"
   ]
  },
  {
   "cell_type": "code",
   "execution_count": 27,
   "id": "b2bedbf7",
   "metadata": {},
   "outputs": [
    {
     "name": "stdout",
     "output_type": "stream",
     "text": [
      "25 48\n"
     ]
    }
   ],
   "source": [
    "#LAMDA\n",
    "\n",
    "add_fifteen = lambda x: x + 15\n",
    "\n",
    "multiply = lambda x, y: x * y\n",
    "\n",
    "num = 10\n",
    "x = 6\n",
    "y = 8\n",
    "\n",
    "result1 = add_fifteen(num)\n",
    "result2 = multiply(x, y)\n",
    "\n",
    "print(result1, result2)\n"
   ]
  },
  {
   "cell_type": "code",
   "execution_count": 28,
   "id": "f18c16aa",
   "metadata": {},
   "outputs": [
    {
     "name": "stdout",
     "output_type": "stream",
     "text": [
      "Original list of tuples: [('English', 88), ('Science', 90), ('Maths', 97), ('Social sciences', 82)]\n",
      "Sorting the List of Tuples: [('Social sciences', 82), ('English', 88), ('Science', 90), ('Maths', 97)]\n"
     ]
    }
   ],
   "source": [
    "\n",
    "tuples = [('English', 88), ('Science', 90), ('Maths', 97), ('Social sciences', 82)]\n",
    "\n",
    "sorted_tuples = sorted(tuples, key=lambda x: x[1])\n",
    "\n",
    "print(\"Original list of tuples:\", tuples)\n",
    "print(\"Sorting the List of Tuples:\", sorted_tuples)\n"
   ]
  },
  {
   "cell_type": "code",
   "execution_count": 29,
   "id": "018c7c2f",
   "metadata": {},
   "outputs": [
    {
     "name": "stdout",
     "output_type": "stream",
     "text": [
      "Original list of dictionaries: [{'make': 'Nokia', 'model': 216, 'color': 'Black'}, {'make': 'Mi Max', 'model': '2', 'color': 'Gold'}, {'make': 'Samsung', 'model': 7, 'color': 'Blue'}]\n",
      "Sorting the List of dictionaries: [{'make': 'Mi Max', 'model': '2', 'color': 'Gold'}, {'make': 'Nokia', 'model': 216, 'color': 'Black'}, {'make': 'Samsung', 'model': 7, 'color': 'Blue'}]\n"
     ]
    }
   ],
   "source": [
    "original_list = [{'make': 'Nokia', 'model': 216, 'color': 'Black'},\n",
    "                 {'make': 'Mi Max', 'model': '2', 'color': 'Gold'},\n",
    "                 {'make': 'Samsung', 'model': 7, 'color': 'Blue'}]\n",
    "\n",
    "sorted_list = sorted(original_list, key=lambda x: x['make'])\n",
    "\n",
    "print('Original list of dictionaries:', original_list)\n",
    "print('Sorting the List of dictionaries:', sorted_list)\n"
   ]
  },
  {
   "cell_type": "code",
   "execution_count": 30,
   "id": "197f25ad",
   "metadata": {},
   "outputs": [
    {
     "name": "stdout",
     "output_type": "stream",
     "text": [
      "True\n"
     ]
    }
   ],
   "source": [
    "starts_with = lambda x: lambda y: y.startswith(x)\n",
    "\n",
    "string = \"hello world\"\n",
    "char = \"h\"\n",
    "result = starts_with(char)(string)\n",
    "print(result) # Output: True\n"
   ]
  },
  {
   "cell_type": "code",
   "execution_count": 37,
   "id": "79ccb308",
   "metadata": {},
   "outputs": [
    {
     "name": "stdout",
     "output_type": "stream",
     "text": [
      "True\n",
      "True\n",
      "False\n"
     ]
    }
   ],
   "source": [
    "is_number = lambda s: s.replace('.', '', 1).isdigit()\n",
    "\n",
    "string1 = \"1234\"\n",
    "string2 = \"12.34\"\n",
    "string3 = \"abc\"\n",
    "\n",
    "result1 = is_number(string1)\n",
    "result2 = is_number(string2)\n",
    "result3 = is_number(string3)\n",
    "\n",
    "print(result1) # Output: True\n",
    "print(result2) # Output: True\n",
    "print(result3) # Output: False\n"
   ]
  },
  {
   "cell_type": "code",
   "execution_count": 32,
   "id": "c3678a27",
   "metadata": {},
   "outputs": [
    {
     "name": "stdout",
     "output_type": "stream",
     "text": [
      "Original list: [19, 65, 57, 39, 152, 639, 121, 44, 90, 190]\n",
      "Numbers of the above list divisible by nineteen or thirteen: [19, 65, 57, 39, 152, 190]\n"
     ]
    }
   ],
   "source": [
    "numbers = [19, 65, 57, 39, 152, 639, 121, 44, 90, 190]\n",
    "\n",
    "divisible = list(filter(lambda x: x % 19 == 0 or x % 13 == 0, numbers))\n",
    "\n",
    "print(\"Original list:\", numbers)\n",
    "print(\"Numbers of the above list divisible by nineteen or thirteen:\", divisible)\n"
   ]
  },
  {
   "cell_type": "code",
   "execution_count": 33,
   "id": "1f7ca2f8",
   "metadata": {},
   "outputs": [
    {
     "name": "stdout",
     "output_type": "stream",
     "text": [
      "Original Matrix: [[1, 2, 3], [2, 4, 5], [1, 1, 1]]\n",
      "Sorted Matrix in Ascending Order according to the Sum of its Rows: [[1, 1, 1], [1, 2, 3], [2, 4, 5]]\n",
      "Original Matrix: [[1, 2, 3], [-2, 4, -5], [1, -1, 1]]\n",
      "Sorted Matrix in Ascending Order according to the Sum of its Rows: [[-2, 4, -5], [1, -1, 1], [1, 2, 3]]\n"
     ]
    }
   ],
   "source": [
    "matrix = [[1, 2, 3], [2, 4, 5], [1, 1, 1]]\n",
    "print(\"Original Matrix:\", matrix)\n",
    "\n",
    "sorted_matrix = sorted(matrix, key=lambda row: sum(row))\n",
    "print(\"Sorted Matrix in Ascending Order according to the Sum of its Rows:\", sorted_matrix)\n",
    "\n",
    "matrix = [[1, 2, 3], [-2, 4, -5], [1, -1, 1]]\n",
    "print(\"Original Matrix:\", matrix)\n",
    "\n",
    "sorted_matrix = sorted(matrix, key=lambda row: sum(row))\n",
    "print(\"Sorted Matrix in Ascending Order according to the Sum of its Rows:\", sorted_matrix)\n"
   ]
  },
  {
   "cell_type": "code",
   "execution_count": 34,
   "id": "0a7b5f05",
   "metadata": {},
   "outputs": [
    {
     "name": "stdout",
     "output_type": "stream",
     "text": [
      "valid string\n"
     ]
    }
   ],
   "source": [
    "check_string = lambda s: len(s) >= 10 and any(c.isupper() for c in s) and any(c.islower() for c in s) and any(c.isdigit() for c in s)\n",
    "\n",
    "s = 'PaceWisd0m'\n",
    "if check_string(s):\n",
    "    print('valid string')\n",
    "else:\n",
    "    print('invalid string')\n"
   ]
  },
  {
   "cell_type": "code",
   "execution_count": 35,
   "id": "493d70dd",
   "metadata": {},
   "outputs": [
    {
     "name": "stdout",
     "output_type": "stream",
     "text": [
      "Original list: ['red', 'black', 'white', 'green', 'orange']\n",
      "Substring to search: ack\n",
      "Elements of the said list that contain the specific substring: ['black']\n"
     ]
    }
   ],
   "source": [
    "lst = ['red', 'black', 'white', 'green', 'orange']\n",
    "substr = 'ack'\n",
    "\n",
    "result = list(filter(lambda x: substr in x, lst))\n",
    "\n",
    "print(\"Original list:\", lst)\n",
    "print(\"Substring to search:\", substr)\n",
    "print(\"Elements of the said list that contain the specific substring:\", result)\n"
   ]
  },
  {
   "cell_type": "code",
   "execution_count": 36,
   "id": "8850a7ab",
   "metadata": {},
   "outputs": [
    {
     "name": "stdout",
     "output_type": "stream",
     "text": [
      "Original list: [19, 'red', 12, 'green', 'blue', 10, 'white', 'green', 1]\n",
      "Sorted list: ['blue', 'green', 'green', 'red', 'white', 1, 10, 12, 19]\n"
     ]
    }
   ],
   "source": [
    "original_list = [19, 'red', 12, 'green', 'blue', 10, 'white', 'green', 1]\n",
    "sorted_list = sorted(original_list, key=lambda x: (isinstance(x, int), x))\n",
    "print(\"Original list:\", original_list)\n",
    "print(\"Sorted list:\", sorted_list)\n"
   ]
  },
  {
   "cell_type": "code",
   "execution_count": null,
   "id": "30f61150",
   "metadata": {},
   "outputs": [],
   "source": []
  }
 ],
 "metadata": {
  "kernelspec": {
   "display_name": "Python 3 (ipykernel)",
   "language": "python",
   "name": "python3"
  },
  "language_info": {
   "codemirror_mode": {
    "name": "ipython",
    "version": 3
   },
   "file_extension": ".py",
   "mimetype": "text/x-python",
   "name": "python",
   "nbconvert_exporter": "python",
   "pygments_lexer": "ipython3",
   "version": "3.9.13"
  }
 },
 "nbformat": 4,
 "nbformat_minor": 5
}
