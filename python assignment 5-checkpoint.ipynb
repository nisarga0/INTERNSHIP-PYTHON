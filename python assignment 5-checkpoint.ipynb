{
 "cells": [
  {
   "cell_type": "code",
   "execution_count": 2,
   "id": "20a9af5c",
   "metadata": {},
   "outputs": [
    {
     "name": "stdout",
     "output_type": "stream",
     "text": [
      "enter the stringananya\n",
      "lenth of the string: 6\n"
     ]
    }
   ],
   "source": [
    "s1=input(\"enter the string\")\n",
    "length=0\n",
    "for _ in s1:\n",
    "    length=length+1\n",
    "print(\"lenth of the string:\", length)"
   ]
  },
  {
   "cell_type": "code",
   "execution_count": 3,
   "id": "37cb66e8",
   "metadata": {},
   "outputs": [
    {
     "name": "stdout",
     "output_type": "stream",
     "text": [
      "{'g': 2, 'o': 3, 'l': 1, 'e': 1, '.': 1, 'c': 1, 'm': 1}\n"
     ]
    }
   ],
   "source": [
    "string = \"google.com\"\n",
    "char_freq = {}\n",
    "for char in string:\n",
    "    if char in char_freq:\n",
    "        char_freq[char] += 1\n",
    "    else:\n",
    "        char_freq[char] = 1\n",
    "print(char_freq)\n"
   ]
  },
  {
   "cell_type": "code",
   "execution_count": 4,
   "id": "ef0c1850",
   "metadata": {},
   "outputs": [
    {
     "name": "stdout",
     "output_type": "stream",
     "text": [
      "Enter a string: ananya\n",
      "anya\n"
     ]
    }
   ],
   "source": [
    "string = input(\"Enter a string: \")\n",
    "if len(string) < 2:\n",
    "    print(\"Empty String\")\n",
    "else:\n",
    "    first_two = string[:2]\n",
    "    last_two = string[-2:]\n",
    "    result = first_two + last_two\n",
    "    print(result)\n"
   ]
  },
  {
   "cell_type": "code",
   "execution_count": 9,
   "id": "de3bda7a",
   "metadata": {},
   "outputs": [],
   "source": [
    "def replace_char(string):\n",
    "    char = string[0]\n",
    "    return char + string[1:].replace(char, '$')\n",
    "\n",
    "\n"
   ]
  },
  {
   "cell_type": "code",
   "execution_count": 10,
   "id": "9f89d97f",
   "metadata": {},
   "outputs": [
    {
     "name": "stdout",
     "output_type": "stream",
     "text": [
      "xyc abz\n"
     ]
    }
   ],
   "source": [
    "string1 = \"abc\"\n",
    "string2 = \"xyz\"\n",
    "new_string1 = string2[:2] + string1[2:]\n",
    "new_string2 = string1[:2] + string2[2:]\n",
    "result = new_string1 + \" \" + new_string2\n",
    "print(result)\n"
   ]
  },
  {
   "cell_type": "code",
   "execution_count": 11,
   "id": "6b0b0a39",
   "metadata": {},
   "outputs": [
    {
     "name": "stdout",
     "output_type": "stream",
     "text": [
      "stringly\n"
     ]
    }
   ],
   "source": [
    "#Write a Python program to add 'ing' at the end of a given string (length should be at least 3). If the given string already ends with 'ing' then add 'ly' instead. If the string length of the given string is less than 3, leave it unchanged.\n",
    "#Sample String : 'abc'\n",
    "#Expected Result : 'abcing' \n",
    "#Sample String : 'string'\n",
    "#Expected Result : 'stringly'\n",
    "\n",
    "string = \"string\"\n",
    "if len(string) < 3:\n",
    "    result = string\n",
    "elif string.endswith(\"ing\"):\n",
    "    result = string + \"ly\"\n",
    "else:\n",
    "    result = string + \"ing\"\n",
    "print(result)\n"
   ]
  },
  {
   "cell_type": "code",
   "execution_count": 8,
   "id": "8bb75c17",
   "metadata": {},
   "outputs": [
    {
     "name": "stdout",
     "output_type": "stream",
     "text": [
      "The lyrics is good!\n",
      "The lyrics is poor!\n"
     ]
    }
   ],
   "source": [
    "string1 = \"The lyrics is not that poor!\"\n",
    "string2 = \"The lyrics is poor!\"\n",
    "\n",
    "# find the positions of 'not' and 'poor' in the string\n",
    "not_index = string1.find(\"not\")\n",
    "poor_index = string1.find(\"poor\")\n",
    "\n",
    "# if 'not' appears before 'poor' and both substrings are present in the string, replace 'not...poor' with 'good'\n",
    "if not_index < poor_index and not_index != -1 and poor_index != -1:\n",
    "    result = string1[:not_index] + \"good\" + string1[poor_index+4:]\n",
    "# otherwise, leave the string as it is\n",
    "else:\n",
    "    result = string1\n",
    "\n",
    "# find the positions of 'not' and 'poor' in the string\n",
    "not_index = string2.find(\"not\")\n",
    "poor_index = string2.find(\"poor\")\n",
    "\n",
    "# if 'not' appears before 'poor' and both substrings are present in the string, replace 'not...poor' with 'good'\n",
    "if not_index < poor_index and not_index != -1 and poor_index != -1:\n",
    "    result2 = string2[:not_index] + \"good\" + string2[poor_index+4:]\n",
    "# otherwise, leave the string as it is\n",
    "else:\n",
    "    result2 = string2\n",
    "\n",
    "# print the resulting strings\n",
    "print(result)\n",
    "print(result2)\n"
   ]
  },
  {
   "cell_type": "code",
   "execution_count": 9,
   "id": "e93733f6",
   "metadata": {},
   "outputs": [],
   "source": [
    "def find_longest_word(words):\n",
    "    longest_word_length = 0\n",
    "    for word in words:\n",
    "        if len(word) > longest_word_length:\n",
    "            longest_word_length = len(word)\n",
    "    return longest_word_length\n"
   ]
  },
  {
   "cell_type": "code",
   "execution_count": 13,
   "id": "a73bba3c",
   "metadata": {},
   "outputs": [],
   "source": [
    "def remove_char(string, n):\n",
    "    return string[:n] + string[n+1:]\n",
    "\n",
    "\n"
   ]
  },
  {
   "cell_type": "code",
   "execution_count": 11,
   "id": "1499eaf8",
   "metadata": {},
   "outputs": [
    {
     "name": "stdout",
     "output_type": "stream",
     "text": [
      "Enter a comma-separated list of words: hey,hello\n",
      "hello, hey\n"
     ]
    }
   ],
   "source": [
    "user_input = input(\"Enter a comma-separated list of words: \")\n",
    "words_list = user_input.split(\",\")\n",
    "unique_words = list(set(words_list))\n",
    "sorted_words = sorted(unique_words)\n",
    "result = \", \".join(sorted_words)\n",
    "print(result)\n"
   ]
  },
  {
   "cell_type": "code",
   "execution_count": 12,
   "id": "0af83fdb",
   "metadata": {},
   "outputs": [],
   "source": [
    "def reverse_if_multiple_of_four(string):\n",
    "    if len(string) % 4 == 0:\n",
    "        return string[::-1]\n",
    "    else:\n",
    "        return string\n"
   ]
  },
  {
   "cell_type": "code",
   "execution_count": 13,
   "id": "3101b880",
   "metadata": {},
   "outputs": [],
   "source": [
    "def uppercase_if_two_uppercase_chars(string):\n",
    "    uppercase_count = 0\n",
    "    for i in range(4):\n",
    "        if string[i].isupper():\n",
    "            uppercase_count += 1\n",
    "    if uppercase_count >= 2:\n",
    "        return string.upper()\n",
    "    else:\n",
    "        return string\n"
   ]
  },
  {
   "cell_type": "code",
   "execution_count": 14,
   "id": "a40ed6c0",
   "metadata": {},
   "outputs": [
    {
     "name": "stdout",
     "output_type": "stream",
     "text": [
      "Enter a string: king\n",
      "Enter the prefix to check: super\n",
      "The string does not start with the specified prefix.\n"
     ]
    }
   ],
   "source": [
    "string = input(\"Enter a string: \")\n",
    "prefix = input(\"Enter the prefix to check: \")\n",
    "\n",
    "if string.startswith(prefix):\n",
    "    print(\"The string starts with the specified prefix.\")\n",
    "else:\n",
    "    print(\"The string does not start with the specified prefix.\")\n"
   ]
  },
  {
   "cell_type": "code",
   "execution_count": 15,
   "id": "ff14dcdc",
   "metadata": {},
   "outputs": [
    {
     "name": "stdout",
     "output_type": "stream",
     "text": [
      "3.14\n"
     ]
    }
   ],
   "source": [
    "number = 3.1415926\n",
    "print(\"{:.2f}\".format(number))\n"
   ]
  },
  {
   "cell_type": "code",
   "execution_count": 14,
   "id": "eed716ba",
   "metadata": {},
   "outputs": [
    {
     "name": "stdout",
     "output_type": "stream",
     "text": [
      "t 2\n",
      "h 2\n",
      "e 3\n",
      "u 2\n",
      "r 2\n",
      "o 4\n"
     ]
    }
   ],
   "source": [
    "string = 'thequickbrownfoxjumpsoverthelazydog'\n",
    "char_count = {}\n",
    "for char in string:\n",
    "    if char in char_count:\n",
    "        char_count[char] += 1\n",
    "    else:\n",
    "        char_count[char] = 1\n",
    "for char in char_count:\n",
    "    if char_count[char] > 1:\n",
    "        print(char, char_count[char])\n"
   ]
  },
  {
   "cell_type": "code",
   "execution_count": 17,
   "id": "e9f3732c",
   "metadata": {},
   "outputs": [
    {
     "name": "stdout",
     "output_type": "stream",
     "text": [
      "Enter a string: hey\n",
      "h 0\n",
      "e 1\n",
      "y 2\n"
     ]
    }
   ],
   "source": [
    "string = input(\"Enter a string: \")\n",
    "\n",
    "# Loop through each character in the string\n",
    "for index, char in enumerate(string):\n",
    "    print(char, index)\n"
   ]
  },
  {
   "cell_type": "code",
   "execution_count": 18,
   "id": "9551131c",
   "metadata": {},
   "outputs": [
    {
     "name": "stdout",
     "output_type": "stream",
     "text": [
      "Enter a string: ananya\n",
      "['a', 'n', 'a', 'n', 'y', 'a']\n"
     ]
    }
   ],
   "source": [
    "string = input(\"Enter a string: \")\n",
    "string_list = list(string)\n",
    "\n",
    "print(string_list)\n"
   ]
  },
  {
   "cell_type": "code",
   "execution_count": 19,
   "id": "6e0beec1",
   "metadata": {},
   "outputs": [
    {
     "name": "stdout",
     "output_type": "stream",
     "text": [
      "32,054.23\n"
     ]
    }
   ],
   "source": [
    "string = \"32.054,23\"\n",
    "string = string.replace(',', '|').replace('.', ',').replace('|', '.')\n",
    "print(string)\n"
   ]
  },
  {
   "cell_type": "code",
   "execution_count": 21,
   "id": "1fbaaa00",
   "metadata": {},
   "outputs": [
    {
     "name": "stdout",
     "output_type": "stream",
     "text": [
      "Enter a string: I am ananya\n",
      "Smallest word: I\n",
      "Largest word: ananya\n"
     ]
    }
   ],
   "source": [
    "string = input(\"Enter a string: \")\n",
    "smallest = largest = words[0]\n",
    "for word in words:\n",
    "    if len(word) < len(smallest):\n",
    "        smallest = word\n",
    "    elif len(word) > len(largest):\n",
    "        largest = word\n",
    "\n",
    "\n",
    "print(\"Smallest word:\", smallest)\n",
    "print(\"Largest word:\", largest)\n"
   ]
  },
  {
   "cell_type": "code",
   "execution_count": 24,
   "id": "b762d3ae",
   "metadata": {},
   "outputs": [
    {
     "name": "stdout",
     "output_type": "stream",
     "text": [
      "Enter a string: aananyya\n",
      "Output string: ananya\n"
     ]
    }
   ],
   "source": [
    "string = input(\"Enter a string: \")\n",
    "\n",
    "# Initialize an empty string for the output\n",
    "output = \"\"\n",
    "\n",
    "# Loop through each character in the string\n",
    "for i in range(len(string)):\n",
    "    # If the current character is not equal to the next character, add it to the output string\n",
    "    if i == len(string) - 1 or string[i] != string[i+1]:\n",
    "        output += string[i]\n",
    "\n",
    "# Print the output string\n",
    "print(\"Output string:\", output)\n"
   ]
  },
  {
   "cell_type": "code",
   "execution_count": null,
   "id": "1dab438c",
   "metadata": {},
   "outputs": [],
   "source": []
  }
 ],
 "metadata": {
  "kernelspec": {
   "display_name": "Python 3 (ipykernel)",
   "language": "python",
   "name": "python3"
  },
  "language_info": {
   "codemirror_mode": {
    "name": "ipython",
    "version": 3
   },
   "file_extension": ".py",
   "mimetype": "text/x-python",
   "name": "python",
   "nbconvert_exporter": "python",
   "pygments_lexer": "ipython3",
   "version": "3.9.13"
  }
 },
 "nbformat": 4,
 "nbformat_minor": 5
}
