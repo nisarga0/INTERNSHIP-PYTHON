{
 "cells": [
  {
   "cell_type": "code",
   "execution_count": 1,
   "id": "c017e40a",
   "metadata": {},
   "outputs": [
    {
     "name": "stdout",
     "output_type": "stream",
     "text": [
      "1505\n",
      "1540\n",
      "1575\n",
      "1610\n",
      "1645\n",
      "1680\n",
      "1715\n",
      "1750\n",
      "1785\n",
      "1820\n",
      "1855\n",
      "1890\n",
      "1925\n",
      "1960\n",
      "1995\n",
      "2030\n",
      "2065\n",
      "2100\n",
      "2135\n",
      "2170\n",
      "2205\n",
      "2240\n",
      "2275\n",
      "2310\n",
      "2345\n",
      "2380\n",
      "2415\n",
      "2450\n",
      "2485\n",
      "2520\n",
      "2555\n",
      "2590\n",
      "2625\n",
      "2660\n",
      "2695\n"
     ]
    }
   ],
   "source": [
    "for num in range(1500, 2701):\n",
    "    if num % 7 == 0 and num % 5 == 0:\n",
    "        print(num)\n"
   ]
  },
  {
   "cell_type": "code",
   "execution_count": 2,
   "id": "f1ab4b4b",
   "metadata": {},
   "outputs": [
    {
     "name": "stdout",
     "output_type": "stream",
     "text": [
      "0 1 2 4 5 "
     ]
    }
   ],
   "source": [
    "for num in range(7):\n",
    "    if num == 3 or num == 6:\n",
    "        continue\n",
    "    print(num, end=' ')\n"
   ]
  },
  {
   "cell_type": "code",
   "execution_count": 3,
   "id": "fd15ab81",
   "metadata": {},
   "outputs": [
    {
     "name": "stdout",
     "output_type": "stream",
     "text": [
      "1\n",
      "2\n",
      "Fizz\n",
      "4\n",
      "Buzz\n",
      "Fizz\n",
      "7\n",
      "8\n",
      "Fizz\n",
      "Buzz\n",
      "11\n",
      "Fizz\n",
      "13\n",
      "14\n",
      "FizzBuzz\n",
      "16\n",
      "17\n",
      "Fizz\n",
      "19\n",
      "Buzz\n",
      "Fizz\n",
      "22\n",
      "23\n",
      "Fizz\n",
      "Buzz\n",
      "26\n",
      "Fizz\n",
      "28\n",
      "29\n",
      "FizzBuzz\n",
      "31\n",
      "32\n",
      "Fizz\n",
      "34\n",
      "Buzz\n",
      "Fizz\n",
      "37\n",
      "38\n",
      "Fizz\n",
      "Buzz\n",
      "41\n",
      "Fizz\n",
      "43\n",
      "44\n",
      "FizzBuzz\n",
      "46\n",
      "47\n",
      "Fizz\n",
      "49\n",
      "Buzz\n"
     ]
    }
   ],
   "source": [
    "for num in range(1, 51):\n",
    "    if num % 3 == 0 and num % 5 == 0:\n",
    "        print(\"FizzBuzz\")\n",
    "    elif num % 3 == 0:\n",
    "        print(\"Fizz\")\n",
    "    elif num % 5 == 0:\n",
    "        print(\"Buzz\")\n",
    "    else:\n",
    "        print(num)\n"
   ]
  },
  {
   "cell_type": "code",
   "execution_count": 4,
   "id": "fae72f04",
   "metadata": {},
   "outputs": [
    {
     "name": "stdout",
     "output_type": "stream",
     "text": [
      "Input length of first side: 6\n",
      "Input length of second side: 6\n",
      "Input length of third side: 5\n",
      "Isosceles triangle\n"
     ]
    }
   ],
   "source": [
    "\n",
    "x = float(input(\"Input length of first side: \"))\n",
    "y = float(input(\"Input length of second side: \"))\n",
    "z = float(input(\"Input length of third side: \"))\n",
    "\n",
    "if x == y == z:\n",
    "    print(\"Equilateral triangle\")\n",
    "elif x == y or y == z or z == x:\n",
    "    print(\"Isosceles triangle\")\n",
    "else:\n",
    "    print(\"Scalene triangle\")\n"
   ]
  },
  {
   "cell_type": "code",
   "execution_count": 5,
   "id": "1215e415",
   "metadata": {},
   "outputs": [
    {
     "name": "stdout",
     "output_type": "stream",
     "text": [
      "Enter an integer number (input 0 to finish): 5\n",
      "Enter an integer number (input 0 to finish): 6\n",
      "Enter an integer number (input 0 to finish): 6\n",
      "Enter an integer number (input 0 to finish): 5\n",
      "Enter an integer number (input 0 to finish): 6\n",
      "Enter an integer number (input 0 to finish): 5\n",
      "Enter an integer number (input 0 to finish): 0\n",
      "Sum of the numbers: 33\n",
      "Average of the numbers: 5.5\n"
     ]
    }
   ],
   "source": [
    "\n",
    "sum = 0\n",
    "count = 0\n",
    "\n",
    "\n",
    "while True:\n",
    "    num = int(input(\"Enter an integer number (input 0 to finish): \"))\n",
    "    if num == 0:\n",
    "        break\n",
    "    sum += num\n",
    "    count += 1\n",
    "\n",
    "\n",
    "if count == 0:\n",
    "    average = 0\n",
    "else:\n",
    "    average = sum / count\n",
    "\n",
    "\n",
    "print(\"Sum of the numbers:\", sum)\n",
    "print(\"Average of the numbers:\", average)\n"
   ]
  },
  {
   "cell_type": "code",
   "execution_count": 6,
   "id": "279f0003",
   "metadata": {},
   "outputs": [
    {
     "name": "stdout",
     "output_type": "stream",
     "text": [
      "1\n",
      "22\n",
      "333\n",
      "4444\n",
      "55555\n",
      "666666\n",
      "7777777\n",
      "88888888\n",
      "999999999\n"
     ]
    }
   ],
   "source": [
    "for i in range(1, 10):\n",
    "    for j in range(i):\n",
    "        print(i, end=\"\")\n",
    "    print()\n",
    "\n",
    "    "
   ]
  },
  {
   "cell_type": "code",
   "execution_count": 7,
   "id": "2b214023",
   "metadata": {},
   "outputs": [
    {
     "name": "stdout",
     "output_type": "stream",
     "text": [
      "Number of elements greater than 30: 5\n"
     ]
    }
   ],
   "source": [
    "\n",
    "numbers = [10, 20, 30, 40, 50, 60, 70, 80]\n",
    "\n",
    "\n",
    "count = 0\n",
    "\n",
    "\n",
    "for num in numbers:\n",
    "    if num > 30:\n",
    "        count += 1\n",
    "\n",
    "\n",
    "print(\"Number of elements greater than 30:\", count)\n"
   ]
  },
  {
   "cell_type": "code",
   "execution_count": 9,
   "id": "c89ca6f1",
   "metadata": {},
   "outputs": [
    {
     "name": "stdout",
     "output_type": "stream",
     "text": [
      "Enter the length of the rectangle: 6\n",
      "Enter the breadth of the rectangle: 5\n",
      "It is not a square.\n"
     ]
    }
   ],
   "source": [
    "\n",
    "length = float(input(\"Enter the length of the rectangle: \"))\n",
    "breadth = float(input(\"Enter the breadth of the rectangle: \"))\n",
    "\n",
    "\n",
    "if length == breadth:\n",
    "    print(\"It is a square.\")\n",
    "else:\n",
    "    print(\"It is not a square.\")\n"
   ]
  },
  {
   "cell_type": "code",
   "execution_count": 11,
   "id": "31223161",
   "metadata": {},
   "outputs": [
    {
     "name": "stdout",
     "output_type": "stream",
     "text": [
      "Enter the quantity of units purchased: 100\n",
      "Total cost: 9000.0\n"
     ]
    }
   ],
   "source": [
    "\n",
    "quantity = int(input(\"Enter the quantity of units purchased: \"))\n",
    "\n",
    "\n",
    "cost = quantity * 100\n",
    "\n",
    "if cost > 1000:\n",
    "    discount = cost * 0.1\n",
    "    cost = cost - discount\n",
    "\n",
    "\n",
    "print(\"Total cost:\", cost)\n"
   ]
  },
  {
   "cell_type": "code",
   "execution_count": 13,
   "id": "bd8fe70d",
   "metadata": {},
   "outputs": [
    {
     "name": "stdout",
     "output_type": "stream",
     "text": [
      "Enter your salary: 60000\n",
      "Enter your years of service: 5\n",
      "Net bonus amount: 0\n"
     ]
    }
   ],
   "source": [
    "\n",
    "salary = float(input(\"Enter your salary: \"))\n",
    "years_of_service = int(input(\"Enter your years of service: \"))\n",
    "\n",
    "\n",
    "if years_of_service > 5:\n",
    "    bonus = salary * 0.05\n",
    "else:\n",
    "    bonus = 0\n",
    "\n",
    "\n",
    "print(\"Net bonus amount:\", bonus)\n"
   ]
  },
  {
   "cell_type": "code",
   "execution_count": 14,
   "id": "125cfb93",
   "metadata": {},
   "outputs": [
    {
     "name": "stdout",
     "output_type": "stream",
     "text": [
      "Enter your marks: 45\n",
      "Your grade is: D\n"
     ]
    }
   ],
   "source": [
    "\n",
    "marks = float(input(\"Enter your marks: \"))\n",
    "\n",
    "\n",
    "if marks < 25:\n",
    "    grade = \"F\"\n",
    "elif marks >= 25 and marks < 45:\n",
    "    grade = \"E\"\n",
    "elif marks >= 45 and marks < 50:\n",
    "    grade = \"D\"\n",
    "elif marks >= 50 and marks < 60:\n",
    "    grade = \"C\"\n",
    "elif marks >= 60 and marks < 80:\n",
    "    grade = \"B\"\n",
    "else:\n",
    "    grade = \"A\"\n",
    "\n",
    "\n",
    "print(\"Your grade is:\", grade)\n"
   ]
  },
  {
   "cell_type": "code",
   "execution_count": 15,
   "id": "964fa384",
   "metadata": {},
   "outputs": [
    {
     "name": "stdout",
     "output_type": "stream",
     "text": [
      "Enter the number of classes held: 5\n",
      "Enter the number of classes attended: 3\n",
      "You are not allowed to sit in the exam.\n",
      "Attendance percentage: 60.0\n"
     ]
    }
   ],
   "source": [
    "\n",
    "num_classes_held = int(input(\"Enter the number of classes held: \"))\n",
    "num_classes_attended = int(input(\"Enter the number of classes attended: \"))\n",
    "\n",
    "\n",
    "attendance_percent = (num_classes_attended / num_classes_held) * 100\n",
    "\n",
    "\n",
    "if attendance_percent >= 75:\n",
    "    print(\"You are allowed to sit in the exam.\")\n",
    "else:\n",
    "    print(\"You are not allowed to sit in the exam.\")\n",
    "\n",
    "\n",
    "print(\"Attendance percentage:\", attendance_percent)\n"
   ]
  },
  {
   "cell_type": "code",
   "execution_count": 16,
   "id": "23425e55",
   "metadata": {},
   "outputs": [
    {
     "name": "stdout",
     "output_type": "stream",
     "text": [
      "Enter an integer: 5\n",
      "Enter an integer: 6\n",
      "Enter an integer: 5\n",
      "Enter an integer: 9\n",
      "Enter an integer: 5\n",
      "Enter an integer: 5\n",
      "Enter an integer: 5\n",
      "Enter an integer: 5\n",
      "Enter an integer: 6\n",
      "Enter an integer: 9\n",
      "The average value of the 10 integers is: 6.0\n"
     ]
    }
   ],
   "source": [
    "\n",
    "sum = 0\n",
    "\n",
    "\n",
    "for i in range(10):\n",
    "    num = int(input(\"Enter an integer: \"))\n",
    "    sum += num  \n",
    "\n",
    "\n",
    "avg = sum / 10\n",
    "\n",
    "\n",
    "print(\"The average value of the 10 integers is:\", avg)\n"
   ]
  },
  {
   "cell_type": "code",
   "execution_count": 17,
   "id": "53ae1b04",
   "metadata": {},
   "outputs": [
    {
     "name": "stdout",
     "output_type": "stream",
     "text": [
      "Multiplication table of 24:\n",
      "1 x 24 = 24\n",
      "2 x 24 = 48\n",
      "3 x 24 = 72\n",
      "4 x 24 = 96\n",
      "5 x 24 = 120\n",
      "6 x 24 = 144\n",
      "7 x 24 = 168\n",
      "8 x 24 = 192\n",
      "9 x 24 = 216\n",
      "10 x 24 = 240\n",
      "\n",
      "Multiplication table of 50:\n",
      "1 x 50 = 50\n",
      "2 x 50 = 100\n",
      "3 x 50 = 150\n",
      "4 x 50 = 200\n",
      "5 x 50 = 250\n",
      "6 x 50 = 300\n",
      "7 x 50 = 350\n",
      "8 x 50 = 400\n",
      "9 x 50 = 450\n",
      "10 x 50 = 500\n",
      "\n",
      "Multiplication table of 29:\n",
      "1 x 29 = 29\n",
      "2 x 29 = 58\n",
      "3 x 29 = 87\n",
      "4 x 29 = 116\n",
      "5 x 29 = 145\n",
      "6 x 29 = 174\n",
      "7 x 29 = 203\n",
      "8 x 29 = 232\n",
      "9 x 29 = 261\n",
      "10 x 29 = 290\n",
      "\n"
     ]
    }
   ],
   "source": [
    "\n",
    "numbers = [24, 50, 29]\n",
    "\n",
    "\n",
    "for num in numbers:\n",
    "    print(f\"Multiplication table of {num}:\")\n",
    "\n",
    "    for i in range(1, 11):\n",
    "        \n",
    "        product = num * i\n",
    "        \n",
    "        print(f\"{i} x {num} = {product}\")\n",
    "    \n",
    "    print()\n"
   ]
  },
  {
   "cell_type": "code",
   "execution_count": 18,
   "id": "d5acf908",
   "metadata": {},
   "outputs": [
    {
     "name": "stdout",
     "output_type": "stream",
     "text": [
      "Enter an integer or 'q' to quit: 5\n",
      "Enter an integer or 'q' to quit: q\n",
      "Average of the numbers: 5.0\n",
      "Product of the numbers: 5\n"
     ]
    }
   ],
   "source": [
    "\n",
    "sum = 0\n",
    "count = 0\n",
    "product = 1\n",
    "\n",
    "\n",
    "while True:\n",
    "    \n",
    "    user_input = input(\"Enter an integer or 'q' to quit: \")\n",
    "\n",
    "    if user_input == \"q\":\n",
    "        break\n",
    "    \n",
    "    \n",
    "    try:\n",
    "        num = int(user_input)\n",
    "    except ValueError:\n",
    "        print(\"Invalid input. Please enter an integer or 'q'.\")\n",
    "        continue\n",
    "    \n",
    "    \n",
    "    sum += num\n",
    "    count += 1\n",
    "    product *= num\n",
    "\n",
    "\n",
    "if count > 0:\n",
    "    avg = sum / count\n",
    "    print(f\"Average of the numbers: {avg}\")\n",
    "    print(f\"Product of the numbers: {product}\")\n",
    "else:\n",
    "    print(\"No numbers were entered.\")\n"
   ]
  },
  {
   "cell_type": "code",
   "execution_count": 19,
   "id": "c0232941",
   "metadata": {},
   "outputs": [
    {
     "name": "stdout",
     "output_type": "stream",
     "text": [
      "Enter elements for the list (separated by spaces): 5 6 7 \n",
      "Enter an element to delete from the list: 6\n",
      "6 was removed from the list.\n",
      "The elements of the list are:\n",
      "5\n",
      "7\n"
     ]
    }
   ],
   "source": [
    "\n",
    "elements = input(\"Enter elements for the list (separated by spaces): \")\n",
    "my_list = elements.split()  \n",
    "\n",
    "\n",
    "to_delete = input(\"Enter an element to delete from the list: \")\n",
    "\n",
    "\n",
    "if to_delete in my_list:\n",
    "    my_list.remove(to_delete)\n",
    "    print(f\"{to_delete} was removed from the list.\")\n",
    "else:\n",
    "    print(f\"{to_delete} was not found in the list.\")\n",
    "\n",
    "print(\"The elements of the list are:\")\n",
    "for elem in my_list:\n",
    "    print(elem)\n"
   ]
  },
  {
   "cell_type": "code",
   "execution_count": 20,
   "id": "fcd192bc",
   "metadata": {},
   "outputs": [
    {
     "name": "stdout",
     "output_type": "stream",
     "text": [
      "Even numbers: [2, 4, 6, 8, 10, 12, 14, 16, 18, 20, 22, 24, 26, 28, 30, 32, 34, 36, 38, 40, 42, 44, 46, 48, 50, 52, 54, 56, 58, 60, 62, 64, 66, 68, 70, 72, 74, 76, 78, 80, 82, 84, 86, 88, 90, 92, 94, 96, 98, 100]\n",
      "Odd numbers: [1, 3, 5, 7, 9, 11, 13, 15, 17, 19, 21, 23, 25, 27, 29, 31, 33, 35, 37, 39, 41, 43, 45, 47, 49, 51, 53, 55, 57, 59, 61, 63, 65, 67, 69, 71, 73, 75, 77, 79, 81, 83, 85, 87, 89, 91, 93, 95, 97, 99]\n",
      "Prime numbers: [2, 3, 5, 7, 11, 13, 17, 19, 23, 29, 31, 37, 41, 43, 47, 53, 59, 61, 67, 71, 73, 79, 83, 89, 97]\n"
     ]
    }
   ],
   "source": [
    "\n",
    "even_numbers = [num for num in range(1, 101) if num % 2 == 0]\n",
    "\n",
    "\n",
    "odd_numbers = [num for num in range(1, 101) if num % 2 != 0]\n",
    "\n",
    "\n",
    "def is_prime(num):\n",
    "    if num < 2:\n",
    "        return False\n",
    "    for i in range(2, int(num**0.5) + 1):\n",
    "        if num % i == 0:\n",
    "            return False\n",
    "    return True\n",
    "\n",
    "prime_numbers = [num for num in range(1, 101) if is_prime(num)]\n",
    "\n",
    "\n",
    "print(\"Even numbers:\", even_numbers)\n",
    "print(\"Odd numbers:\", odd_numbers)\n",
    "print(\"Prime numbers:\", prime_numbers)\n"
   ]
  },
  {
   "cell_type": "code",
   "execution_count": 21,
   "id": "e38d49f1",
   "metadata": {},
   "outputs": [
    {
     "name": "stdout",
     "output_type": "stream",
     "text": [
      "Numbers divisible by 4: [4, 8, 12, 16, 20, 24, 28, 32, 36, 40, 44, 48, 52, 56, 60, 64, 68, 72, 76, 80, 84, 88, 92, 96, 100]\n",
      "Numbers divisible by 6: [6, 12, 18, 24, 30, 36, 42, 48, 54, 60, 66, 72, 78, 84, 90, 96]\n",
      "Numbers divisible by 8: [8, 16, 24, 32, 40, 48, 56, 64, 72, 80, 88, 96]\n",
      "Numbers divisible by 10: [10, 20, 30, 40, 50, 60, 70, 80, 90, 100]\n",
      "Numbers divisible by 3: [3, 9, 15, 21, 27, 33, 39, 45, 51, 57, 63, 69, 75, 81, 87, 93, 99]\n",
      "Numbers divisible by 5: [5, 15, 25, 35, 45, 55, 65, 75, 85, 95]\n",
      "Numbers divisible by 7: [7, 21, 35, 49, 63, 77, 91]\n",
      "Numbers divisible by 9: [9, 27, 45, 63, 81, 99]\n"
     ]
    }
   ],
   "source": [
    "\n",
    "even_numbers = [num for num in range(1, 101) if num % 2 == 0]\n",
    "odd_numbers = [num for num in range(1, 101) if num % 2 != 0]\n",
    "\n",
    "\n",
    "divisible_by_4 = [num for num in even_numbers if num % 4 == 0]\n",
    "divisible_by_6 = [num for num in even_numbers if num % 6 == 0]\n",
    "divisible_by_8 = [num for num in even_numbers if num % 8 == 0]\n",
    "divisible_by_10 = [num for num in even_numbers if num % 10 == 0]\n",
    "divisible_by_3 = [num for num in odd_numbers if num % 3 == 0]\n",
    "divisible_by_5 = [num for num in odd_numbers if num % 5 == 0]\n",
    "divisible_by_7 = [num for num in odd_numbers if num % 7 == 0]\n",
    "divisible_by_9 = [num for num in odd_numbers if num % 9 == 0]\n",
    "\n",
    "\n",
    "print(\"Numbers divisible by 4:\", divisible_by_4)\n",
    "print(\"Numbers divisible by 6:\", divisible_by_6)\n",
    "print(\"Numbers divisible by 8:\", divisible_by_8)\n",
    "print(\"Numbers divisible by 10:\", divisible_by_10)\n",
    "print(\"Numbers divisible by 3:\", divisible_by_3)\n",
    "print(\"Numbers divisible by 5:\", divisible_by_5)\n",
    "print(\"Numbers divisible by 7:\", divisible_by_7)\n",
    "print(\"Numbers divisible by 9:\", divisible_by_9)\n",
    "\n"
   ]
  },
  {
   "cell_type": "code",
   "execution_count": 22,
   "id": "2130602d",
   "metadata": {},
   "outputs": [
    {
     "name": "stdout",
     "output_type": "stream",
     "text": [
      "Integers: [1, 42]\n",
      "Strings: ['hello', 'world']\n",
      "Floats: [3.14, 2.71]\n"
     ]
    }
   ],
   "source": [
    "mixed_list = [1, \"hello\", 3.14, 42, \"world\", 2.71]\n",
    "\n",
    "int_list = []\n",
    "str_list = []\n",
    "float_list = []\n",
    "\n",
    "for item in mixed_list:\n",
    "    if isinstance(item, int):\n",
    "        int_list.append(item)\n",
    "    elif isinstance(item, str):\n",
    "        str_list.append(item)\n",
    "    elif isinstance(item, float):\n",
    "        float_list.append(item)\n",
    "\n",
    "print(\"Integers:\", int_list)\n",
    "print(\"Strings:\", str_list)\n",
    "print(\"Floats:\", float_list)\n"
   ]
  },
  {
   "cell_type": "code",
   "execution_count": 23,
   "id": "a9bd169c",
   "metadata": {},
   "outputs": [
    {
     "name": "stdout",
     "output_type": "stream",
     "text": [
      "Original List: [1, 2, 3, 4, 5]\n",
      "Squared List: [1, 4, 9, 16, 25]\n"
     ]
    }
   ],
   "source": [
    "old_list = [1, 2, 3, 4, 5]\n",
    "new_list = []\n",
    "\n",
    "for item in old_list:\n",
    "    new_list.append(item**2)\n",
    "\n",
    "print(\"Original List:\", old_list)\n",
    "print(\"Squared List:\", new_list)\n"
   ]
  },
  {
   "cell_type": "code",
   "execution_count": null,
   "id": "f320bec9",
   "metadata": {},
   "outputs": [],
   "source": []
  }
 ],
 "metadata": {
  "kernelspec": {
   "display_name": "Python 3 (ipykernel)",
   "language": "python",
   "name": "python3"
  },
  "language_info": {
   "codemirror_mode": {
    "name": "ipython",
    "version": 3
   },
   "file_extension": ".py",
   "mimetype": "text/x-python",
   "name": "python",
   "nbconvert_exporter": "python",
   "pygments_lexer": "ipython3",
   "version": "3.9.13"
  }
 },
 "nbformat": 4,
 "nbformat_minor": 5
}
