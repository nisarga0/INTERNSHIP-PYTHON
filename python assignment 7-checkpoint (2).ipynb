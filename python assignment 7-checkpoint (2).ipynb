{
 "cells": [
  {
   "cell_type": "code",
   "execution_count": 1,
   "id": "a146d9d7",
   "metadata": {},
   "outputs": [
    {
     "name": "stdout",
     "output_type": "stream",
     "text": [
      "{'grape': 1, 'banana': 2, 'apple': 5, 'orange': 8}\n",
      "{'orange': 8, 'apple': 5, 'banana': 2, 'grape': 1}\n"
     ]
    }
   ],
   "source": [
    "my_dict = {'apple': 5, 'banana': 2, 'orange': 8, 'grape': 1}\n",
    "sorted_dict_ascending = dict(sorted(my_dict.items(), key=lambda item: item[1]))\n",
    "print(sorted_dict_ascending)\n",
    "sorted_dict_descending = dict(sorted(my_dict.items(), key=lambda item: item[1], reverse=True))\n",
    "print(sorted_dict_descending)\n"
   ]
  },
  {
   "cell_type": "code",
   "execution_count": 2,
   "id": "c16360b7",
   "metadata": {},
   "outputs": [
    {
     "name": "stdout",
     "output_type": "stream",
     "text": [
      "{0: 10, 1: 20, 2: 30}\n"
     ]
    }
   ],
   "source": [
    "\n",
    "my_dict = {0: 10, 1: 20}\n",
    "my_dict[2] = 30\n",
    "print(my_dict)\n"
   ]
  },
  {
   "cell_type": "code",
   "execution_count": 3,
   "id": "a36eec95",
   "metadata": {},
   "outputs": [
    {
     "name": "stdout",
     "output_type": "stream",
     "text": [
      "{1: 10, 2: 20, 3: 30, 4: 40, 5: 50, 6: 60}\n"
     ]
    }
   ],
   "source": [
    "dic1 = {1: 10, 2: 20}\n",
    "dic2 = {3: 30, 4: 40}\n",
    "dic3 = {5: 50, 6: 60}\n",
    "new_dict = {}\n",
    "new_dict.update(dic1)\n",
    "new_dict.update(dic2)\n",
    "new_dict.update(dic3)\n",
    "print(new_dict)\n"
   ]
  },
  {
   "cell_type": "code",
   "execution_count": 4,
   "id": "a7e14d2d",
   "metadata": {},
   "outputs": [
    {
     "name": "stdout",
     "output_type": "stream",
     "text": [
      "orange exists in the dictionary.\n"
     ]
    }
   ],
   "source": [
    "my_dict = {'apple': 5, 'banana': 2, 'orange': 8, 'grape': 1}\n",
    "\n",
    "key = 'orange'\n",
    "if key in my_dict:\n",
    "    print(f\"{key} exists in the dictionary.\")\n",
    "else:\n",
    "    print(f\"{key} does not exist in the dictionary.\")\n"
   ]
  },
  {
   "cell_type": "code",
   "execution_count": 5,
   "id": "64bf8703",
   "metadata": {},
   "outputs": [
    {
     "name": "stdout",
     "output_type": "stream",
     "text": [
      "apple : 5\n",
      "banana : 2\n",
      "orange : 8\n",
      "grape : 1\n"
     ]
    }
   ],
   "source": [
    "my_dict = {'apple': 5, 'banana': 2, 'orange': 8, 'grape': 1}\n",
    "for key in my_dict:\n",
    "    print(key, ':', my_dict[key])\n"
   ]
  },
  {
   "cell_type": "code",
   "execution_count": 7,
   "id": "130d7019",
   "metadata": {},
   "outputs": [
    {
     "name": "stdout",
     "output_type": "stream",
     "text": [
      "{1: 1, 2: 4, 3: 9, 4: 16, 5: 25}\n"
     ]
    }
   ],
   "source": [
    "n = 5\n",
    "squares_dict = {}\n",
    "for i in range(1, n+1):\n",
    "    squares_dict[i] = i*i\n",
    "print(squares_dict)\n"
   ]
  },
  {
   "cell_type": "code",
   "execution_count": 8,
   "id": "d8c2ddff",
   "metadata": {},
   "outputs": [
    {
     "name": "stdout",
     "output_type": "stream",
     "text": [
      "{'apple': 5, 'banana': 2, 'orange': 8, 'grape': 1}\n"
     ]
    }
   ],
   "source": [
    "\n",
    "dict1 = {'apple': 5, 'banana': 2}\n",
    "dict2 = {'orange': 8, 'grape': 1}\n",
    "merged_dict = dict1.copy()\n",
    "merged_dict.update(dict2)\n",
    "print(merged_dict)\n"
   ]
  },
  {
   "cell_type": "code",
   "execution_count": 10,
   "id": "ee9731cd",
   "metadata": {},
   "outputs": [
    {
     "name": "stdout",
     "output_type": "stream",
     "text": [
      "Sum of all the values in the dictionary: 16\n"
     ]
    }
   ],
   "source": [
    "\n",
    "my_dict = {'apple': 5, 'banana': 2, 'orange': 8, 'grape': 1}\n",
    "total_sum = sum(my_dict.values())\n",
    "print(\"Sum of all the values in the dictionary:\", total_sum)\n"
   ]
  },
  {
   "cell_type": "code",
   "execution_count": 11,
   "id": "91bb847e",
   "metadata": {},
   "outputs": [
    {
     "name": "stdout",
     "output_type": "stream",
     "text": [
      "Product of all the values in the dictionary: 80\n"
     ]
    }
   ],
   "source": [
    "my_dict = {'apple': 5, 'banana': 2, 'orange': 8, 'grape': 1}\n",
    "total_product = 1\n",
    "for value in my_dict.values():\n",
    "    total_product *= value\n",
    "print(\"Product of all the values in the dictionary:\", total_product)\n"
   ]
  },
  {
   "cell_type": "code",
   "execution_count": 12,
   "id": "bb351dea",
   "metadata": {},
   "outputs": [
    {
     "name": "stdout",
     "output_type": "stream",
     "text": [
      "Key removed successfully.\n",
      "Updated dictionary: {'apple': 5, 'banana': 2, 'grape': 1}\n"
     ]
    }
   ],
   "source": [
    "my_dict = {'apple': 5, 'banana': 2, 'orange': 8, 'grape': 1}\n",
    "key_to_remove = 'orange'\n",
    "if key_to_remove in my_dict:\n",
    "    del my_dict[key_to_remove]\n",
    "    print(\"Key removed successfully.\")\n",
    "else:\n",
    "    print(\"Key not found in the dictionary.\")\n",
    "print(\"Updated dictionary:\", my_dict)\n"
   ]
  },
  {
   "cell_type": "code",
   "execution_count": 13,
   "id": "6eaca39e",
   "metadata": {},
   "outputs": [
    {
     "name": "stdout",
     "output_type": "stream",
     "text": [
      "Sorted dictionary by key: {'apple': 5, 'banana': 2, 'grape': 1, 'orange': 8}\n"
     ]
    }
   ],
   "source": [
    "my_dict = {'apple': 5, 'banana': 2, 'orange': 8, 'grape': 1}\n",
    "sorted_dict = dict(sorted(my_dict.items()))\n",
    "print(\"Sorted dictionary by key:\", sorted_dict)\n"
   ]
  },
  {
   "cell_type": "code",
   "execution_count": 14,
   "id": "e30fcbcb",
   "metadata": {},
   "outputs": [
    {
     "name": "stdout",
     "output_type": "stream",
     "text": [
      "Maximum value: 8\n",
      "Minimum value: 1\n"
     ]
    }
   ],
   "source": [
    "my_dict = {'apple': 5, 'banana': 2, 'orange': 8, 'grape': 1}\n",
    "max_value = max(my_dict.values())\n",
    "min_value = min(my_dict.values())\n",
    "print(\"Maximum value:\", max_value)\n",
    "print(\"Minimum value:\", min_value)\n"
   ]
  },
  {
   "cell_type": "code",
   "execution_count": 15,
   "id": "c2c129e1",
   "metadata": {},
   "outputs": [
    {
     "name": "stdout",
     "output_type": "stream",
     "text": [
      "Dictionary after removing duplicates: {'apple': 5, 'banana': 2, 'orange': 8}\n"
     ]
    }
   ],
   "source": [
    "my_dict = {'apple': 5, 'banana': 2, 'orange': 8, 'grape': 5, 'mango': 2}\n",
    "unique_dict = {}\n",
    "for key, value in my_dict.items():\n",
    "    if value not in unique_dict.values():\n",
    "        unique_dict[key] = value\n",
    "print(\"Dictionary after removing duplicates:\", unique_dict)\n"
   ]
  },
  {
   "cell_type": "code",
   "execution_count": 16,
   "id": "a658e11f",
   "metadata": {},
   "outputs": [
    {
     "name": "stdout",
     "output_type": "stream",
     "text": [
      "Dictionary 1 is empty.\n",
      "Dictionary 2 is not empty.\n"
     ]
    }
   ],
   "source": [
    "my_dict1 = {}\n",
    "my_dict2 = {'apple': 5, 'banana': 2, 'orange': 8}\n",
    "if len(my_dict1) == 0:\n",
    "    print(\"Dictionary 1 is empty.\")\n",
    "else:\n",
    "    print(\"Dictionary 1 is not empty.\")\n",
    "\n",
    "if len(my_dict2) == 0:\n",
    "    print(\"Dictionary 2 is empty.\")\n",
    "else:\n",
    "    print(\"Dictionary 2 is not empty.\")\n"
   ]
  },
  {
   "cell_type": "code",
   "execution_count": 18,
   "id": "c27fbbd1",
   "metadata": {},
   "outputs": [
    {
     "name": "stdout",
     "output_type": "stream",
     "text": [
      "Counter({'a': 400, 'b': 400, 'd': 400, 'c': 300})\n"
     ]
    }
   ],
   "source": [
    "from collections import Counter\n",
    "d1 = {'a': 100, 'b': 200, 'c': 300}\n",
    "d2 = {'a': 300, 'b': 200, 'd': 400}\n",
    "result = Counter(d1) + Counter(d2)\n",
    "print(result)\n"
   ]
  },
  {
   "cell_type": "code",
   "execution_count": 19,
   "id": "968511c2",
   "metadata": {},
   "outputs": [
    {
     "name": "stdout",
     "output_type": "stream",
     "text": [
      "The highest 3 values in the dictionary are: [400, 300, 200]\n"
     ]
    }
   ],
   "source": [
    "import heapq\n",
    "my_dict = {'a': 100, 'b': 200, 'c': 50, 'd': 400, 'e': 300}\n",
    "highest = heapq.nlargest(3, my_dict.values())\n",
    "print(\"The highest 3 values in the dictionary are:\", highest)\n"
   ]
  },
  {
   "cell_type": "code",
   "execution_count": 20,
   "id": "4cd02d0c",
   "metadata": {},
   "outputs": [
    {
     "name": "stdout",
     "output_type": "stream",
     "text": [
      "key1: 1 is present in both dictionaries\n"
     ]
    }
   ],
   "source": [
    "dict1 = {'key1': 1, 'key2': 3, 'key3': 2}\n",
    "dict2 = {'key1': 1, 'key2': 2}\n",
    "for key in dict1.keys():\n",
    "    if key in dict2.keys():\n",
    "        if dict1[key] == dict2[key]:\n",
    "            print(f\"{key}: {dict1[key]} is present in both dictionaries\")\n"
   ]
  },
  {
   "cell_type": "code",
   "execution_count": 21,
   "id": "db3e3d32",
   "metadata": {},
   "outputs": [
    {
     "name": "stdout",
     "output_type": "stream",
     "text": [
      "All dictionaries in the list are empty\n",
      "Not all dictionaries in the list are empty\n"
     ]
    }
   ],
   "source": [
    "\n",
    "list1 = [{},{},{}]\n",
    "list2 = [{1,2},{},{}]\n",
    "def all_dicts_empty(lst):\n",
    "    for dct in lst:\n",
    "        if len(dct) > 0:\n",
    "            return False\n",
    "    return True\n",
    "\n",
    "\n",
    "if all_dicts_empty(list1):\n",
    "    print(\"All dictionaries in the list are empty\")\n",
    "else:\n",
    "    print(\"Not all dictionaries in the list are empty\")\n",
    "\n",
    "if all_dicts_empty(list2):\n",
    "    print(\"All dictionaries in the list are empty\")\n",
    "else:\n",
    "    print(\"Not all dictionaries in the list are empty\")\n"
   ]
  },
  {
   "cell_type": "code",
   "execution_count": 22,
   "id": "da16ddac",
   "metadata": {},
   "outputs": [
    {
     "name": "stdout",
     "output_type": "stream",
     "text": [
      "[[10, 20], [40], [30, 56, 25], [33]]\n"
     ]
    }
   ],
   "source": [
    "original_list = [[10, 20], [40], [30, 56, 25], [10, 20], [33], [40]]\n",
    "\n",
    "new_list = []\n",
    "\n",
    "for l in original_list:\n",
    "    if l not in new_list:\n",
    "        new_list.append(l)\n",
    "\n",
    "print(new_list)\n"
   ]
  },
  {
   "cell_type": "code",
   "execution_count": 23,
   "id": "e212b765",
   "metadata": {},
   "outputs": [
    {
     "name": "stdout",
     "output_type": "stream",
     "text": [
      "Extended list: [40, 50, 60, 10, 20, 30]\n"
     ]
    }
   ],
   "source": [
    "list1 = [10, 20, 30]\n",
    "list2 = [40, 50, 60]\n",
    "list3 = list2 + list1\n",
    "print(\"Extended list:\", list3)\n"
   ]
  },
  {
   "cell_type": "code",
   "execution_count": null,
   "id": "3fdf4020",
   "metadata": {},
   "outputs": [],
   "source": []
  }
 ],
 "metadata": {
  "kernelspec": {
   "display_name": "Python 3 (ipykernel)",
   "language": "python",
   "name": "python3"
  },
  "language_info": {
   "codemirror_mode": {
    "name": "ipython",
    "version": 3
   },
   "file_extension": ".py",
   "mimetype": "text/x-python",
   "name": "python",
   "nbconvert_exporter": "python",
   "pygments_lexer": "ipython3",
   "version": "3.9.13"
  }
 },
 "nbformat": 4,
 "nbformat_minor": 5
}
